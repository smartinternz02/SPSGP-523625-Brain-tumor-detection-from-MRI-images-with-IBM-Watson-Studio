{
  "nbformat": 4,
  "nbformat_minor": 0,
  "metadata": {
    "colab": {
      "provenance": [],
      "gpuType": "T4"
    },
    "kernelspec": {
      "name": "python3",
      "display_name": "Python 3"
    },
    "language_info": {
      "name": "python"
    },
    "accelerator": "GPU"
  },
  "cells": [
    {
      "cell_type": "markdown",
      "source": [
        "Name: Marlapalli Ritika\n",
        "Reg.No: 20BCB0134\n",
        "VIT AI-Assignment-3\n"
      ],
      "metadata": {
        "id": "alUDgUB1kWfv"
      }
    },
    {
      "cell_type": "code",
      "source": [
        "#Connect drive to colab\n",
        "from google.colab import drive\n",
        "drive.mount('/content/drive')"
      ],
      "metadata": {
        "colab": {
          "base_uri": "https://localhost:8080/"
        },
        "id": "GUIrxSdljsEJ",
        "outputId": "a987318c-38de-4c08-f984-52159f30ce0a"
      },
      "execution_count": 1,
      "outputs": [
        {
          "output_type": "stream",
          "name": "stdout",
          "text": [
            "Drive already mounted at /content/drive; to attempt to forcibly remount, call drive.mount(\"/content/drive\", force_remount=True).\n"
          ]
        }
      ]
    },
    {
      "cell_type": "code",
      "source": [
        "#Unzip the dataset file\n",
        "!unzip '/content/drive/MyDrive/archive.zip'"
      ],
      "metadata": {
        "colab": {
          "base_uri": "https://localhost:8080/"
        },
        "id": "6ByDf0XEjtz1",
        "outputId": "496344c7-568a-40b0-8bb3-69a4124b35e2"
      },
      "execution_count": 3,
      "outputs": [
        {
          "output_type": "stream",
          "name": "stdout",
          "text": [
            "Archive:  /content/drive/MyDrive/archive.zip\n",
            "replace test_data/test_data/blasti/DSC_6396.jpg? [y]es, [n]o, [A]ll, [N]one, [r]ename: "
          ]
        }
      ]
    },
    {
      "cell_type": "code",
      "source": [
        "#Data Augmentation\n",
        "#import required libraries\n",
        "from tensorflow.keras.preprocessing.image import ImageDataGenerator"
      ],
      "metadata": {
        "id": "S-NC67Ajkj8k"
      },
      "execution_count": 4,
      "outputs": []
    },
    {
      "cell_type": "code",
      "source": [
        "#Normalization of data\n",
        "train_gen = ImageDataGenerator(rescale=(1./255),horizontal_flip=True,shear_range=0.2)\n",
        "test_gen = ImageDataGenerator(rescale=(1./255)) "
      ],
      "metadata": {
        "id": "Kvn_oScemR0l"
      },
      "execution_count": 5,
      "outputs": []
    },
    {
      "cell_type": "code",
      "source": [
        "train = train_gen.flow_from_directory('/content/train_data/train_data', target_size=(120, 120), class_mode='categorical', batch_size=8)\n",
        "test = test_gen.flow_from_directory('/content/test_data/test_data', target_size=(120, 120), class_mode='categorical', batch_size=8)"
      ],
      "metadata": {
        "colab": {
          "base_uri": "https://localhost:8080/"
        },
        "id": "SMJpBcJImhR5",
        "outputId": "b7619b54-0531-4399-9986-da79ec8f7fe3"
      },
      "execution_count": 6,
      "outputs": [
        {
          "output_type": "stream",
          "name": "stdout",
          "text": [
            "Found 150 images belonging to 16 classes.\n",
            "Found 157 images belonging to 16 classes.\n"
          ]
        }
      ]
    },
    {
      "cell_type": "code",
      "source": [
        "train.class_indices"
      ],
      "metadata": {
        "colab": {
          "base_uri": "https://localhost:8080/"
        },
        "id": "44urX2lbnD74",
        "outputId": "ffa9e8be-dce2-4f5e-dd4d-e75e07660f3b"
      },
      "execution_count": 7,
      "outputs": [
        {
          "output_type": "execute_result",
          "data": {
            "text/plain": [
              "{'blasti': 0,\n",
              " 'bonegl': 1,\n",
              " 'brhkyt': 2,\n",
              " 'cbrtsh': 3,\n",
              " 'cmnmyn': 4,\n",
              " 'gretit': 5,\n",
              " 'hilpig': 6,\n",
              " 'himbul': 7,\n",
              " 'himgri': 8,\n",
              " 'hsparo': 9,\n",
              " 'indvul': 10,\n",
              " 'jglowl': 11,\n",
              " 'lbicrw': 12,\n",
              " 'mgprob': 13,\n",
              " 'rebimg': 14,\n",
              " 'wcrsrt': 15}"
            ]
          },
          "metadata": {},
          "execution_count": 7
        }
      ]
    },
    {
      "cell_type": "code",
      "source": [
        "#CNN model\n",
        "#import required libraries\n",
        "from tensorflow.keras.layers import Convolution2D,MaxPooling2D,Flatten,Dense\n",
        "from tensorflow.keras.models import Sequential"
      ],
      "metadata": {
        "id": "tEoaEWwdnF5F"
      },
      "execution_count": 8,
      "outputs": []
    },
    {
      "cell_type": "code",
      "source": [
        "model = Sequential()\n",
        "model.add(Convolution2D(12,(3,3),activation='relu',input_shape=(120, 120, 3)))\n",
        "model.add(MaxPooling2D(pool_size=(2,2)))\n",
        "model.add(Convolution2D(24,(3,3),activation='relu',))\n",
        "model.add(MaxPooling2D(pool_size=(2,2)))\n",
        "model.add(Convolution2D(36,(3,3),activation='relu',))\n",
        "model.add(MaxPooling2D(pool_size=(2,2)))\n",
        "model.add(Flatten())\n",
        "model.add(Dense(62,activation='relu'))\n",
        "model.add(Dense(32,activation='relu'))\n",
        "model.add(Dense(16,activation='relu'))\n",
        "model.add(Dense(16,activation='softmax'))"
      ],
      "metadata": {
        "id": "DHpoLTqPnRKs"
      },
      "execution_count": 9,
      "outputs": []
    },
    {
      "cell_type": "code",
      "source": [
        "model.compile(optimizer='adam',loss='categorical_crossentropy',metrics=['accuracy'])"
      ],
      "metadata": {
        "id": "jrtxpfz8nipg"
      },
      "execution_count": 10,
      "outputs": []
    },
    {
      "cell_type": "code",
      "source": [
        "model.fit(train,batch_size=8,validation_data=test,epochs=50)"
      ],
      "metadata": {
        "colab": {
          "base_uri": "https://localhost:8080/"
        },
        "id": "YTDKdSxdnj3D",
        "outputId": "69f3568b-fe18-42cc-dff2-0da351617ee6"
      },
      "execution_count": 11,
      "outputs": [
        {
          "output_type": "stream",
          "name": "stdout",
          "text": [
            "Epoch 1/50\n",
            "19/19 [==============================] - 97s 5s/step - loss: 2.7823 - accuracy: 0.0600 - val_loss: 2.7555 - val_accuracy: 0.0510\n",
            "Epoch 2/50\n",
            "19/19 [==============================] - 87s 5s/step - loss: 2.7499 - accuracy: 0.1133 - val_loss: 2.7547 - val_accuracy: 0.1274\n",
            "Epoch 3/50\n",
            "19/19 [==============================] - 120s 7s/step - loss: 2.7183 - accuracy: 0.1467 - val_loss: 2.7602 - val_accuracy: 0.1274\n",
            "Epoch 4/50\n",
            "19/19 [==============================] - 87s 5s/step - loss: 2.6097 - accuracy: 0.1733 - val_loss: 2.7653 - val_accuracy: 0.1274\n",
            "Epoch 5/50\n",
            "19/19 [==============================] - 89s 5s/step - loss: 2.6312 - accuracy: 0.1267 - val_loss: 2.7187 - val_accuracy: 0.1274\n",
            "Epoch 6/50\n",
            "19/19 [==============================] - 122s 7s/step - loss: 2.4948 - accuracy: 0.1933 - val_loss: 2.7039 - val_accuracy: 0.1465\n",
            "Epoch 7/50\n",
            "19/19 [==============================] - 87s 5s/step - loss: 2.4704 - accuracy: 0.2133 - val_loss: 2.6374 - val_accuracy: 0.1783\n",
            "Epoch 8/50\n",
            "19/19 [==============================] - 87s 5s/step - loss: 2.3442 - accuracy: 0.2933 - val_loss: 2.6775 - val_accuracy: 0.1146\n",
            "Epoch 9/50\n",
            "19/19 [==============================] - 87s 5s/step - loss: 2.3693 - accuracy: 0.2800 - val_loss: 2.7144 - val_accuracy: 0.1847\n",
            "Epoch 10/50\n",
            "19/19 [==============================] - 87s 5s/step - loss: 2.2733 - accuracy: 0.3000 - val_loss: 2.7533 - val_accuracy: 0.1783\n",
            "Epoch 11/50\n",
            "19/19 [==============================] - 89s 5s/step - loss: 2.2326 - accuracy: 0.3600 - val_loss: 2.7552 - val_accuracy: 0.1911\n",
            "Epoch 12/50\n",
            "19/19 [==============================] - 88s 5s/step - loss: 2.2131 - accuracy: 0.2933 - val_loss: 2.6175 - val_accuracy: 0.1847\n",
            "Epoch 13/50\n",
            "19/19 [==============================] - 88s 5s/step - loss: 2.1318 - accuracy: 0.3467 - val_loss: 2.8116 - val_accuracy: 0.2102\n",
            "Epoch 14/50\n",
            "19/19 [==============================] - 120s 7s/step - loss: 2.0649 - accuracy: 0.3267 - val_loss: 2.7026 - val_accuracy: 0.2038\n",
            "Epoch 15/50\n",
            "19/19 [==============================] - 86s 5s/step - loss: 1.9706 - accuracy: 0.3667 - val_loss: 2.9320 - val_accuracy: 0.1847\n",
            "Epoch 16/50\n",
            "19/19 [==============================] - 86s 5s/step - loss: 2.1045 - accuracy: 0.3267 - val_loss: 2.7611 - val_accuracy: 0.1911\n",
            "Epoch 17/50\n",
            "19/19 [==============================] - 89s 5s/step - loss: 1.9120 - accuracy: 0.4000 - val_loss: 2.6697 - val_accuracy: 0.1783\n",
            "Epoch 18/50\n",
            "19/19 [==============================] - 86s 5s/step - loss: 1.7950 - accuracy: 0.4267 - val_loss: 2.9194 - val_accuracy: 0.2102\n",
            "Epoch 19/50\n",
            "19/19 [==============================] - 88s 5s/step - loss: 1.7893 - accuracy: 0.3933 - val_loss: 2.9782 - val_accuracy: 0.1847\n",
            "Epoch 20/50\n",
            "19/19 [==============================] - 87s 5s/step - loss: 1.8891 - accuracy: 0.4000 - val_loss: 2.6355 - val_accuracy: 0.1783\n",
            "Epoch 21/50\n",
            "19/19 [==============================] - 86s 5s/step - loss: 1.6904 - accuracy: 0.4133 - val_loss: 3.0638 - val_accuracy: 0.2038\n",
            "Epoch 22/50\n",
            "19/19 [==============================] - 87s 5s/step - loss: 1.6564 - accuracy: 0.4133 - val_loss: 2.9728 - val_accuracy: 0.2357\n",
            "Epoch 23/50\n",
            "19/19 [==============================] - 86s 5s/step - loss: 1.5973 - accuracy: 0.4200 - val_loss: 2.8917 - val_accuracy: 0.1592\n",
            "Epoch 24/50\n",
            "19/19 [==============================] - 87s 5s/step - loss: 1.5195 - accuracy: 0.4733 - val_loss: 3.0299 - val_accuracy: 0.2166\n",
            "Epoch 25/50\n",
            "19/19 [==============================] - 88s 5s/step - loss: 1.4226 - accuracy: 0.5067 - val_loss: 2.8344 - val_accuracy: 0.2866\n",
            "Epoch 26/50\n",
            "19/19 [==============================] - 87s 5s/step - loss: 1.2685 - accuracy: 0.6133 - val_loss: 3.3084 - val_accuracy: 0.2229\n",
            "Epoch 27/50\n",
            "19/19 [==============================] - 87s 5s/step - loss: 1.1964 - accuracy: 0.5533 - val_loss: 3.4424 - val_accuracy: 0.2357\n",
            "Epoch 28/50\n",
            "19/19 [==============================] - 87s 5s/step - loss: 1.0850 - accuracy: 0.6600 - val_loss: 3.6492 - val_accuracy: 0.2293\n",
            "Epoch 29/50\n",
            "19/19 [==============================] - 88s 5s/step - loss: 1.0358 - accuracy: 0.6267 - val_loss: 3.7081 - val_accuracy: 0.2293\n",
            "Epoch 30/50\n",
            "19/19 [==============================] - 87s 5s/step - loss: 0.9069 - accuracy: 0.7133 - val_loss: 3.9955 - val_accuracy: 0.2548\n",
            "Epoch 31/50\n",
            "19/19 [==============================] - 88s 5s/step - loss: 0.8709 - accuracy: 0.7200 - val_loss: 3.9562 - val_accuracy: 0.2357\n",
            "Epoch 32/50\n",
            "19/19 [==============================] - 86s 5s/step - loss: 0.7879 - accuracy: 0.7267 - val_loss: 4.5225 - val_accuracy: 0.2166\n",
            "Epoch 33/50\n",
            "19/19 [==============================] - 87s 5s/step - loss: 0.7496 - accuracy: 0.7467 - val_loss: 4.6116 - val_accuracy: 0.2611\n",
            "Epoch 34/50\n",
            "19/19 [==============================] - 90s 5s/step - loss: 0.9322 - accuracy: 0.7067 - val_loss: 4.2754 - val_accuracy: 0.2548\n",
            "Epoch 35/50\n",
            "19/19 [==============================] - 87s 5s/step - loss: 0.8312 - accuracy: 0.7333 - val_loss: 4.8311 - val_accuracy: 0.2293\n",
            "Epoch 36/50\n",
            "19/19 [==============================] - 119s 7s/step - loss: 0.6392 - accuracy: 0.7933 - val_loss: 4.5398 - val_accuracy: 0.2675\n",
            "Epoch 37/50\n",
            "19/19 [==============================] - 88s 5s/step - loss: 0.5622 - accuracy: 0.8267 - val_loss: 5.1975 - val_accuracy: 0.2229\n",
            "Epoch 38/50\n",
            "19/19 [==============================] - 89s 5s/step - loss: 0.5989 - accuracy: 0.7933 - val_loss: 4.9850 - val_accuracy: 0.2166\n",
            "Epoch 39/50\n",
            "19/19 [==============================] - 87s 5s/step - loss: 0.4410 - accuracy: 0.8867 - val_loss: 5.2314 - val_accuracy: 0.2930\n",
            "Epoch 40/50\n",
            "19/19 [==============================] - 90s 5s/step - loss: 0.3490 - accuracy: 0.9267 - val_loss: 5.1856 - val_accuracy: 0.2803\n",
            "Epoch 41/50\n",
            "19/19 [==============================] - 87s 5s/step - loss: 0.2385 - accuracy: 0.9333 - val_loss: 6.1344 - val_accuracy: 0.2420\n",
            "Epoch 42/50\n",
            "19/19 [==============================] - 87s 5s/step - loss: 0.1907 - accuracy: 0.9333 - val_loss: 6.5968 - val_accuracy: 0.2611\n",
            "Epoch 43/50\n",
            "19/19 [==============================] - 90s 5s/step - loss: 0.1505 - accuracy: 0.9667 - val_loss: 6.8544 - val_accuracy: 0.2675\n",
            "Epoch 44/50\n",
            "19/19 [==============================] - 88s 5s/step - loss: 0.1152 - accuracy: 0.9733 - val_loss: 7.0347 - val_accuracy: 0.2930\n",
            "Epoch 45/50\n",
            "19/19 [==============================] - 87s 5s/step - loss: 0.1261 - accuracy: 0.9733 - val_loss: 7.8516 - val_accuracy: 0.2102\n",
            "Epoch 46/50\n",
            "19/19 [==============================] - 89s 5s/step - loss: 0.6552 - accuracy: 0.8067 - val_loss: 7.7824 - val_accuracy: 0.1911\n",
            "Epoch 47/50\n",
            "19/19 [==============================] - 88s 5s/step - loss: 1.5244 - accuracy: 0.6733 - val_loss: 4.3861 - val_accuracy: 0.2357\n",
            "Epoch 48/50\n",
            "19/19 [==============================] - 86s 5s/step - loss: 0.7400 - accuracy: 0.7733 - val_loss: 4.5726 - val_accuracy: 0.2293\n",
            "Epoch 49/50\n",
            "19/19 [==============================] - 119s 6s/step - loss: 0.4351 - accuracy: 0.8933 - val_loss: 5.5996 - val_accuracy: 0.2484\n",
            "Epoch 50/50\n",
            "19/19 [==============================] - 88s 5s/step - loss: 0.2537 - accuracy: 0.9533 - val_loss: 6.1673 - val_accuracy: 0.2739\n"
          ]
        },
        {
          "output_type": "execute_result",
          "data": {
            "text/plain": [
              "<keras.callbacks.History at 0x7f91b2d93a60>"
            ]
          },
          "metadata": {},
          "execution_count": 11
        }
      ]
    },
    {
      "cell_type": "code",
      "source": [
        "model.save('birdWeights.h5')\n"
      ],
      "metadata": {
        "id": "e5yzFeS2s170"
      },
      "execution_count": 12,
      "outputs": []
    },
    {
      "cell_type": "code",
      "source": [
        "#Testing\n",
        "#import required libraries\n",
        "import numpy as np\n",
        "from tensorflow.keras.preprocessing import image\n",
        "\n"
      ],
      "metadata": {
        "id": "B2eQEKmpsvrI"
      },
      "execution_count": 13,
      "outputs": []
    },
    {
      "cell_type": "code",
      "source": [
        "img = image.load_img('/content/image.jpg',target_size=(120,120))\n",
        "img"
      ],
      "metadata": {
        "colab": {
          "base_uri": "https://localhost:8080/",
          "height": 137
        },
        "id": "_zLYDZCltN0h",
        "outputId": "e527481d-92ab-477d-fa8d-b084744ed18a"
      },
      "execution_count": 14,
      "outputs": [
        {
          "output_type": "execute_result",
          "data": {
            "text/plain": [
              "<PIL.Image.Image image mode=RGB size=120x120 at 0x7F91B00B3700>"
            ],
            "image/png": "[encoded data removed]"
          },
          "metadata": {},
          "execution_count": 14
        }
      ]
    },
    {
      "cell_type": "code",
      "source": [
        "#Convert image to array\n",
        "img = image.img_to_array(img)\n",
        "img"
      ],
      "metadata": {
        "colab": {
          "base_uri": "https://localhost:8080/"
        },
        "id": "AtPedLATt6nY",
        "outputId": "b2d49599-2f82-4510-929c-d3baa4bd2aad"
      },
      "execution_count": 15,
      "outputs": [
        {
          "output_type": "execute_result",
          "data": {
            "text/plain": [
              "array([[[137., 132., 112.],\n",
              "        [133., 129., 104.],\n",
              "        [128., 124.,  99.],\n",
              "        ...,\n",
              "        [ 81.,  79.,  64.],\n",
              "        [ 86.,  84.,  71.],\n",
              "        [101., 101.,  89.]],\n",
              "\n",
              "       [[138., 134., 109.],\n",
              "        [131., 127., 102.],\n",
              "        [130., 126.,  99.],\n",
              "        ...,\n",
              "        [ 91.,  90.,  70.],\n",
              "        [ 78.,  75.,  60.],\n",
              "        [ 93.,  86.,  78.]],\n",
              "\n",
              "       [[134., 130., 103.],\n",
              "        [135., 131., 106.],\n",
              "        [138., 134., 105.],\n",
              "        ...,\n",
              "        [109., 109.,  83.],\n",
              "        [ 86.,  83.,  66.],\n",
              "        [ 84.,  80.,  68.]],\n",
              "\n",
              "       ...,\n",
              "\n",
              "       [[138., 151.,  97.],\n",
              "        [141., 155.,  96.],\n",
              "        [140., 154.,  92.],\n",
              "        ...,\n",
              "        [122., 118., 106.],\n",
              "        [117., 113., 102.],\n",
              "        [117., 113., 102.]],\n",
              "\n",
              "       [[147., 158., 100.],\n",
              "        [149., 161.,  99.],\n",
              "        [140., 155.,  90.],\n",
              "        ...,\n",
              "        [118., 114., 103.],\n",
              "        [120., 116., 105.],\n",
              "        [118., 114., 105.]],\n",
              "\n",
              "       [[147., 158.,  98.],\n",
              "        [153., 165., 101.],\n",
              "        [146., 158.,  94.],\n",
              "        ...,\n",
              "        [131., 127., 115.],\n",
              "        [123., 119., 108.],\n",
              "        [118., 114., 105.]]], dtype=float32)"
            ]
          },
          "metadata": {},
          "execution_count": 15
        }
      ]
    },
    {
      "cell_type": "code",
      "source": [
        "#Change dimension to 3\n",
        "img = np.expand_dims(img,axis=0)\n",
        "img"
      ],
      "metadata": {
        "colab": {
          "base_uri": "https://localhost:8080/"
        },
        "id": "xi2MOj6KuCiM",
        "outputId": "2623bcba-7313-4bed-c271-83a0d77d6afa"
      },
      "execution_count": 16,
      "outputs": [
        {
          "output_type": "execute_result",
          "data": {
            "text/plain": [
              "array([[[[137., 132., 112.],\n",
              "         [133., 129., 104.],\n",
              "         [128., 124.,  99.],\n",
              "         ...,\n",
              "         [ 81.,  79.,  64.],\n",
              "         [ 86.,  84.,  71.],\n",
              "         [101., 101.,  89.]],\n",
              "\n",
              "        [[138., 134., 109.],\n",
              "         [131., 127., 102.],\n",
              "         [130., 126.,  99.],\n",
              "         ...,\n",
              "         [ 91.,  90.,  70.],\n",
              "         [ 78.,  75.,  60.],\n",
              "         [ 93.,  86.,  78.]],\n",
              "\n",
              "        [[134., 130., 103.],\n",
              "         [135., 131., 106.],\n",
              "         [138., 134., 105.],\n",
              "         ...,\n",
              "         [109., 109.,  83.],\n",
              "         [ 86.,  83.,  66.],\n",
              "         [ 84.,  80.,  68.]],\n",
              "\n",
              "        ...,\n",
              "\n",
              "        [[138., 151.,  97.],\n",
              "         [141., 155.,  96.],\n",
              "         [140., 154.,  92.],\n",
              "         ...,\n",
              "         [122., 118., 106.],\n",
              "         [117., 113., 102.],\n",
              "         [117., 113., 102.]],\n",
              "\n",
              "        [[147., 158., 100.],\n",
              "         [149., 161.,  99.],\n",
              "         [140., 155.,  90.],\n",
              "         ...,\n",
              "         [118., 114., 103.],\n",
              "         [120., 116., 105.],\n",
              "         [118., 114., 105.]],\n",
              "\n",
              "        [[147., 158.,  98.],\n",
              "         [153., 165., 101.],\n",
              "         [146., 158.,  94.],\n",
              "         ...,\n",
              "         [131., 127., 115.],\n",
              "         [123., 119., 108.],\n",
              "         [118., 114., 105.]]]], dtype=float32)"
            ]
          },
          "metadata": {},
          "execution_count": 16
        }
      ]
    },
    {
      "cell_type": "code",
      "source": [
        "#Prediction\n",
        "np.argmax(model.predict(img))"
      ],
      "metadata": {
        "colab": {
          "base_uri": "https://localhost:8080/"
        },
        "id": "YBOmMlGXuL5g",
        "outputId": "9344fa1e-abd9-4250-8464-4b3756c444fb"
      },
      "execution_count": 17,
      "outputs": [
        {
          "output_type": "stream",
          "name": "stdout",
          "text": [
            "1/1 [==============================] - 0s 267ms/step\n"
          ]
        },
        {
          "output_type": "execute_result",
          "data": {
            "text/plain": [
              "5"
            ]
          },
          "metadata": {},
          "execution_count": 17
        }
      ]
    }
  ]
}